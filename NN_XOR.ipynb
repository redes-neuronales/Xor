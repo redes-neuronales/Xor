{
 "cells": [
  {
   "cell_type": "markdown",
   "metadata": {
    "colab_type": "text",
    "id": "X6SfMLdA0VgG"
   },
   "source": [
    "# XOR"
   ]
  },
  {
   "cell_type": "code",
   "execution_count": 3,
   "metadata": {
    "colab": {},
    "colab_type": "code",
    "id": "YvpA3yFz0VgI"
   },
   "outputs": [],
   "source": [
    "%matplotlib inline\n",
    "\n",
    "import matplotlib.pyplot as plt\n",
    "import matplotlib.cm as cm\n",
    "import json, matplotlib\n",
    "#s = json.load( open(\"styles/bmh_matplotlibrc.json\") )\n",
    "#matplotlib.rcParams.update(s)\n",
    "from IPython.core.pylabtools import figsize\n",
    "figsize(11, 5)\n",
    "colores = [\"#348ABD\", \"#A60628\",\"#06A628\"]"
   ]
  },
  {
   "cell_type": "code",
   "execution_count": 4,
   "metadata": {
    "colab": {},
    "colab_type": "code",
    "id": "iY0sO9LR0VgP"
   },
   "outputs": [],
   "source": [
    "from ipywidgets import interact, interactive, fixed, interact_manual\n",
    "import ipywidgets as widgets\n",
    "from IPython.display import display"
   ]
  },
  {
   "cell_type": "code",
   "execution_count": 5,
   "metadata": {
    "colab": {},
    "colab_type": "code",
    "id": "tQ2EKMoi0VgT"
   },
   "outputs": [],
   "source": [
    "import numpy as np"
   ]
  },
  {
   "cell_type": "markdown",
   "metadata": {
    "colab_type": "text",
    "id": "8GIo4Yt-0VgX"
   },
   "source": [
    "## Función de activación"
   ]
  },
  {
   "cell_type": "code",
   "execution_count": 6,
   "metadata": {
    "colab": {},
    "colab_type": "code",
    "id": "-oXn64F40VgZ"
   },
   "outputs": [],
   "source": [
    "# Devuelve la función logística evaluada\n",
    "# componente por componente\n",
    "def logistica(z):\n",
    "    return 1 / (1 + np.exp(-z))"
   ]
  },
  {
   "cell_type": "code",
   "execution_count": 7,
   "metadata": {
    "colab": {},
    "colab_type": "code",
    "id": "n7NLu9XQ0Vgd"
   },
   "outputs": [],
   "source": [
    "## Función que, dado un arreglo de valores z\n",
    "## calcula el valor de la derivada para cada entrada.\n",
    "\n",
    "def derivadaLogistica(z):\n",
    "    g = logistica(z)\n",
    "    return g * (1 - g)"
   ]
  },
  {
   "cell_type": "markdown",
   "metadata": {
    "colab_type": "text",
    "id": "Hhk9wFG90Vgj"
   },
   "source": [
    "## Red neuronal\n",
    "La red implementa encadenamiento hacia adelante (para evaluar) y hacia atrás (para entrenarse)."
   ]
  },
  {
   "cell_type": "code",
   "execution_count": 8,
   "metadata": {
    "colab": {},
    "colab_type": "code",
    "id": "_T_D0r3s0Vgk"
   },
   "outputs": [],
   "source": [
    "np.random.seed(10)"
   ]
  },
  {
   "cell_type": "code",
   "execution_count": 59,
   "metadata": {
    "colab": {},
    "colab_type": "code",
    "id": "0J78Lgya0Vgo"
   },
   "outputs": [],
   "source": [
    "class XOR:\n",
    "    def __init__(self):\n",
    "        self.Theta_0 = np.random.random((2,3))\n",
    "        self.Theta_1 = np.random.random((1,3))\n",
    "    \n",
    "    def feedForward(self, X, vector = None):\n",
    "        \"\"\" Calcula las salidas, dados los datos de entrada. \"\"\"\n",
    "        if vector is None:\n",
    "            Theta_0 = self.Theta_0\n",
    "            Theta_1 = self.Theta_1\n",
    "        else:\n",
    "            Theta_0, Theta_1 = self.reconstructMatrices(vector)\n",
    "        \n",
    "        self.A0 = np.vstack((np.ones((1, X.shape[0])), X.T))\n",
    "        self.Z1 = np.dot(Theta_0, self.A0)\n",
    "        self.A1 = np.vstack((np.ones((1, self.Z1.shape[1])), logistica(self.Z1)))\n",
    "        self.Z2 = np.dot(Theta_1, self.A1)\n",
    "        self.A2 = logistica(self.Z2)\n",
    "        \n",
    "    def backPropagate(self, X, Y):\n",
    "        \"\"\" Calcula el error y su gradiente,\n",
    "        dados los pesos actuales de la red y los resultados\n",
    "        esperados.\n",
    "        \"\"\"\n",
    "        self.feedForward(X)\n",
    "        \n",
    "        m = X.shape[0]\n",
    "        #Delta_2 = (Y.T - self.A2)\n",
    "        Delta_2 = Y.T * np.log(self.A2) + (1 - Y.T) * np.log(1 - self.A2)\n",
    "        #self.error = np.sum(Delta_2 ** 2) / (2 * m) # Suma renglones (clases) y columnas (ejemplares)\n",
    "        self.error = -1/m * np.sum(Delta_2)\n",
    "            \n",
    "        Delta_2 = (Y.T - self.A2)\n",
    "        self.Grad_1 = - np.dot(Delta_2, self.A2.T) / m\n",
    "        \n",
    "        Delta_1 = np.dot(self.Theta_1[:,1:].T, Delta_2) * derivadaLogistica(self.Z1)\n",
    "        self.Grad_0 = - np.dot(Delta_1, self.A1.T) / m\n",
    "        \n",
    "    def calcError(self, X, Y, vector):\n",
    "        \"\"\"\n",
    "        Calcula el error que se cometería utilizando los pesos en 'vector'.\n",
    "        \"\"\"\n",
    "        self.feedForward(X, vector)\n",
    "        m = X.shape[0]\n",
    "        #Delta_2 = (Y.T - self.A2)\n",
    "        Delta_2 = Y.T * np.log(self.A2) + (1 - Y.T) * np.log(1 - self.A2)\n",
    "        #error = np.sum(Delta_2.T ** 2) / (2 * m)\n",
    "        error = -1/m * np.sum(Delta_2)\n",
    "        return error\n",
    "    \n",
    "    def vectorWeights(self):\n",
    "        \"\"\"\n",
    "        Acomoda a todos los parámetros en las matrices de pesos, en un solo vector.\n",
    "        \"\"\"\n",
    "        vector = np.vstack((self.Theta_0.reshape((self.Theta_0.size, 1)),\n",
    "                          self.Theta_1.reshape((self.Theta_1.size, 1))))\n",
    "        #print(self.Theta_0, self.Theta_1, vector)\n",
    "        return vector\n",
    "    \n",
    "    def reconstructMatrices(self, vector):\n",
    "        \"\"\"\n",
    "        Dado un vector, rearma matrices del tamaño de las matrices de pesos.\n",
    "        \"\"\"\n",
    "        M0 = vector[0:self.Theta_0.size].reshape(self.Theta_0.shape)\n",
    "        M1 = vector[self.Theta_0.size:].reshape(self.Theta_1.shape)\n",
    "        return M0, M1\n",
    "        \n",
    "    def approxGradient(self, X, Y):\n",
    "        \"\"\"\n",
    "        Aproxima el valor del gradiente alrededor de los pesos actuales,\n",
    "        perturbando cada valor, uno por uno.\n",
    "        \"\"\"\n",
    "        vector = self.vectorWeights().copy()\n",
    "        approx = np.zeros(vector.shape)\n",
    "        perturb = np.zeros(vector.shape)\n",
    "        epsilon = 0.0001\n",
    "        \n",
    "        for i in range(len(vector)):\n",
    "            perturb[i] = epsilon\n",
    "            loss1 = self.calcError(X, Y, vector - perturb)\n",
    "            loss2 = self.calcError(X, Y, vector + perturb)\n",
    "            perturb[i] = 0\n",
    "            approx[i] = (loss2 - loss1) / (2 * epsilon)\n",
    "        return self.reconstructMatrices(approx)\n",
    "        \n",
    "    def gradientDescent(self, X, Y, alpha, ciclos=10, checkGradient = False):\n",
    "        \"\"\" Evalúa y ajusta los pesos de la red,\n",
    "        de acuerdo a los datos en X y los resultados\n",
    "        esperados, en Y.\n",
    "        \"\"\"\n",
    "        errores = np.zeros(ciclos)\n",
    "        for i in range(ciclos):\n",
    "            self.backPropagate(X, Y)\n",
    "            Grad_1 = self.Grad_1\n",
    "            Grad_0 = self.Grad_0\n",
    "            if checkGradient:\n",
    "                ApproxT0, ApproxT1 = self.approxGradient(X, Y)\n",
    "                print(\"Grad 0 = \", Grad_0, \"\\nApprox = \", ApproxT0, \"\\nDiff = \", Grad_0 - ApproxT0,\n",
    "                     \"\\nGrad 1 = \", Grad_1, \"\\nApprox = \", ApproxT1, \"\\nDiff = \", Grad_1 - ApproxT1)\n",
    "            self.Theta_1 -= alpha * Grad_1\n",
    "            print(self.Theta_1.shape)\n",
    "            print(Grad_1.shape)\n",
    "            self.Theta_0 -= alpha * Grad_0\n",
    "            errores[i] = self.error\n",
    "        if ciclos > 1:\n",
    "            plt.plot(np.arange(ciclos), errores)\n",
    "        \n",
    "    def printOutput(self):\n",
    "        print(np.hstack((self.A0.T[:,1:], self.A2.T)))"
   ]
  },
  {
   "cell_type": "code",
   "execution_count": 60,
   "metadata": {
    "colab": {},
    "colab_type": "code",
    "id": "oMi2DiEd0Vgt",
    "outputId": "f8f750fe-7a5d-45a4-b1df-bf754a8bf0b8"
   },
   "outputs": [
    {
     "name": "stdout",
     "output_type": "stream",
     "text": [
      "[[0.         0.         0.7012568 ]\n",
      " [0.         1.         0.70502782]\n",
      " [1.         0.         0.72161646]\n",
      " [1.         1.         0.72433194]]\n"
     ]
    }
   ],
   "source": [
    "X = np.array([[0, 0], [0, 1], [1, 0], [1, 1]])\n",
    "Y = np.array([[0], [1], [1], [0]])\n",
    "xor = XOR()\n",
    "xor.feedForward(X)\n",
    "xor.printOutput()"
   ]
  },
  {
   "cell_type": "code",
   "execution_count": 61,
   "metadata": {
    "colab": {},
    "colab_type": "code",
    "id": "ZN4sIGPu0Vgy",
    "outputId": "2bd6fe24-71fb-4d5b-ea0b-f471a8d27795"
   },
   "outputs": [
    {
     "name": "stdout",
     "output_type": "stream",
     "text": [
      "[[0.58419583]\n",
      " [0.70884983]\n",
      " [0.14853345]\n",
      " [0.42845074]\n",
      " [0.69389007]\n",
      " [0.10461974]\n",
      " [0.43960524]\n",
      " [0.16620215]\n",
      " [0.50697863]]\n"
     ]
    }
   ],
   "source": [
    "print(xor.vectorWeights())\n"
   ]
  },
  {
   "cell_type": "code",
   "execution_count": 62,
   "metadata": {
    "colab": {},
    "colab_type": "code",
    "id": "eqec90ew0Vg2",
    "outputId": "e1fa47c0-7dd0-4749-81e0-c714089ba111"
   },
   "outputs": [
    {
     "name": "stdout",
     "output_type": "stream",
     "text": [
      "('Grad 0 = ', array([[0.00671123, 0.00471641, 0.00448747],\n",
      "       [0.02207586, 0.01563276, 0.0148788 ]]), '\\nApprox = ', array([[0.02684494, 0.01080645, 0.00787631],\n",
      "       [0.08830346, 0.03823133, 0.0295281 ]]), '\\nDiff = ', array([[-0.0201337 , -0.00609005, -0.00338883],\n",
      "       [-0.06622759, -0.02259857, -0.0146493 ]]), '\\nGrad 1 = ', array([[0.15189203]]), '\\nApprox = ', array([[0.85223302, 0.61833365, 0.5888194 ]]), '\\nDiff = ', array([[-0.70034099, -0.46644162, -0.43692738]]))\n",
      "(1, 3)\n",
      "(1, 1)\n"
     ]
    }
   ],
   "source": [
    "xor.gradientDescent(X, Y, 0.3, 1, checkGradient = True)"
   ]
  },
  {
   "cell_type": "code",
   "execution_count": 54,
   "metadata": {
    "colab": {},
    "colab_type": "code",
    "id": "OWp2m4940Vg5",
    "outputId": "f4a65530-ae53-4a2e-bc6a-dccdbeb46a69"
   },
   "outputs": [
    {
     "data": {
      "application/vnd.jupyter.widget-view+json": {
       "model_id": "49ef0cdb52cc4e2898e20bf66d30a009",
       "version_major": 2,
       "version_minor": 0
      },
      "text/plain": [
       "aW50ZXJhY3RpdmUoY2hpbGRyZW49KEludFNsaWRlcih2YWx1ZT0xMDI1LCBkZXNjcmlwdGlvbj11J2NpY2xvcycsIG1heD0yMDAwLCBtaW49NTApLCBCdXR0b24oZGVzY3JpcHRpb249dSdSdW7igKY=\n"
      ]
     },
     "metadata": {},
     "output_type": "display_data"
    }
   ],
   "source": [
    "@interact_manual(ciclos = (50, 2000))\n",
    "def trainXOR(ciclos):\n",
    "    xor.gradientDescent(X, Y, 0.3, ciclos)"
   ]
  },
  {
   "cell_type": "code",
   "execution_count": 26,
   "metadata": {
    "colab": {},
    "colab_type": "code",
    "id": "CtqYXrTY0Vg8",
    "outputId": "34cd6786-5227-4b1a-ccff-5376540b1f10"
   },
   "outputs": [
    {
     "name": "stdout",
     "output_type": "stream",
     "text": [
      "[[0.         0.         0.49692713]\n",
      " [0.         1.         0.50143153]\n",
      " [1.         0.         0.49910208]\n",
      " [1.         1.         0.50308408]]\n",
      "('Theta_0 = ', array([[0.9041104 , 0.67725557, 0.50360587],\n",
      "       [0.18799615, 0.48319105, 0.76940289]]), '\\nTheta_1', array([[-0.04557463, -0.05339381,  0.13035917]]))\n"
     ]
    }
   ],
   "source": [
    "xor.feedForward(X)\n",
    "xor.printOutput()\n",
    "print(\"Theta_0 = \", xor.Theta_0, \"\\nTheta_1\", xor.Theta_1)"
   ]
  },
  {
   "cell_type": "code",
   "execution_count": 14,
   "metadata": {
    "colab": {},
    "colab_type": "code",
    "id": "gRvwg1Yp0Vg-",
    "outputId": "d9a7d80a-a9c6-4238-91e1-61d86da3019b"
   },
   "outputs": [
    {
     "ename": "IOError",
     "evalue": "[Errno 2] No such file or directory: 'styles/custom.css'",
     "output_type": "error",
     "traceback": [
      "\u001b[0;31m---------------------------------------------------------------------------\u001b[0m",
      "\u001b[0;31mIOError\u001b[0m                                   Traceback (most recent call last)",
      "\u001b[0;32m<ipython-input-14-93d78f428a1c>\u001b[0m in \u001b[0;36m<module>\u001b[0;34m()\u001b[0m\n\u001b[1;32m      3\u001b[0m     \u001b[0mstyles\u001b[0m \u001b[0;34m=\u001b[0m \u001b[0mopen\u001b[0m\u001b[0;34m(\u001b[0m\u001b[0;34m\"styles/custom.css\"\u001b[0m\u001b[0;34m,\u001b[0m \u001b[0;34m\"r\"\u001b[0m\u001b[0;34m)\u001b[0m\u001b[0;34m.\u001b[0m\u001b[0mread\u001b[0m\u001b[0;34m(\u001b[0m\u001b[0;34m)\u001b[0m \u001b[0;31m#or edit path to custom.css\u001b[0m\u001b[0;34m\u001b[0m\u001b[0m\n\u001b[1;32m      4\u001b[0m     \u001b[0;32mreturn\u001b[0m \u001b[0mHTML\u001b[0m\u001b[0;34m(\u001b[0m\u001b[0mstyles\u001b[0m\u001b[0;34m)\u001b[0m\u001b[0;34m\u001b[0m\u001b[0m\n\u001b[0;32m----> 5\u001b[0;31m \u001b[0mcss_styling\u001b[0m\u001b[0;34m(\u001b[0m\u001b[0;34m)\u001b[0m\u001b[0;34m\u001b[0m\u001b[0m\n\u001b[0m",
      "\u001b[0;32m<ipython-input-14-93d78f428a1c>\u001b[0m in \u001b[0;36mcss_styling\u001b[0;34m()\u001b[0m\n\u001b[1;32m      1\u001b[0m \u001b[0;32mfrom\u001b[0m \u001b[0mIPython\u001b[0m\u001b[0;34m.\u001b[0m\u001b[0mcore\u001b[0m\u001b[0;34m.\u001b[0m\u001b[0mdisplay\u001b[0m \u001b[0;32mimport\u001b[0m \u001b[0mHTML\u001b[0m\u001b[0;34m\u001b[0m\u001b[0m\n\u001b[1;32m      2\u001b[0m \u001b[0;32mdef\u001b[0m \u001b[0mcss_styling\u001b[0m\u001b[0;34m(\u001b[0m\u001b[0;34m)\u001b[0m\u001b[0;34m:\u001b[0m\u001b[0;34m\u001b[0m\u001b[0m\n\u001b[0;32m----> 3\u001b[0;31m     \u001b[0mstyles\u001b[0m \u001b[0;34m=\u001b[0m \u001b[0mopen\u001b[0m\u001b[0;34m(\u001b[0m\u001b[0;34m\"styles/custom.css\"\u001b[0m\u001b[0;34m,\u001b[0m \u001b[0;34m\"r\"\u001b[0m\u001b[0;34m)\u001b[0m\u001b[0;34m.\u001b[0m\u001b[0mread\u001b[0m\u001b[0;34m(\u001b[0m\u001b[0;34m)\u001b[0m \u001b[0;31m#or edit path to custom.css\u001b[0m\u001b[0;34m\u001b[0m\u001b[0m\n\u001b[0m\u001b[1;32m      4\u001b[0m     \u001b[0;32mreturn\u001b[0m \u001b[0mHTML\u001b[0m\u001b[0;34m(\u001b[0m\u001b[0mstyles\u001b[0m\u001b[0;34m)\u001b[0m\u001b[0;34m\u001b[0m\u001b[0m\n\u001b[1;32m      5\u001b[0m \u001b[0mcss_styling\u001b[0m\u001b[0;34m(\u001b[0m\u001b[0;34m)\u001b[0m\u001b[0;34m\u001b[0m\u001b[0m\n",
      "\u001b[0;31mIOError\u001b[0m: [Errno 2] No such file or directory: 'styles/custom.css'"
     ]
    }
   ],
   "source": [
    "from IPython.core.display import HTML\n",
    "def css_styling():\n",
    "    styles = open(\"styles/custom.css\", \"r\").read() #or edit path to custom.css\n",
    "    return HTML(styles)\n",
    "css_styling()"
   ]
  },
  {
   "cell_type": "code",
   "execution_count": 0,
   "metadata": {
    "colab": {},
    "colab_type": "code",
    "id": "lXpTx5iU0VhE"
   },
   "outputs": [],
   "source": []
  }
 ],
 "metadata": {
  "colab": {
   "name": "NN_XOR.ipynb",
   "provenance": [],
   "version": "0.3.2"
  },
  "kernelspec": {
   "display_name": "Python 3",
   "language": "python",
   "name": "python3"
  },
  "language_info": {
   "codemirror_mode": {
    "name": "ipython",
    "version": 2
   },
   "file_extension": ".py",
   "mimetype": "text/x-python",
   "name": "python",
   "nbconvert_exporter": "python",
   "pygments_lexer": "ipython2",
   "version": "2.7.16+"
  }
 },
 "nbformat": 4,
 "nbformat_minor": 1
}
